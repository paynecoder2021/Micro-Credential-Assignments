{
  "nbformat": 4,
  "nbformat_minor": 0,
  "metadata": {
    "colab": {
      "name": "Unit 2 Lesson 2 Assignment - Intro.ipynb",
      "provenance": [],
      "collapsed_sections": []
    },
    "kernelspec": {
      "name": "python3",
      "display_name": "Python 3"
    }
  },
  "cells": [
    {
      "cell_type": "code",
      "metadata": {
        "colab": {
          "base_uri": "https://localhost:8080/"
        },
        "id": "aH7rz2cxiT8x",
        "outputId": "93d3a430-c825-4611-9a42-399f5459ff2a"
      },
      "source": [
        "#4. Create a variable for first name, last name and an email extension. Concatenating all three together to form an email address. For example: firstnamelastname@gmail.com\r\n",
        "x = input('Please Enter First Name: ')\r\n",
        "y = input('Please Enter Last Name: ')\r\n",
        "z = input('Please Input Email Extension: ')\r\n",
        "print(x + y + z)"
      ],
      "execution_count": null,
      "outputs": [
        {
          "output_type": "stream",
          "text": [
            "Please Enter First Name: Tom\n",
            "Please Enter Last Name: Smith\n",
            "Please Input Email Extension: @gmail.com\n",
            "TomSmith@gmail.com\n"
          ],
          "name": "stdout"
        }
      ]
    },
    {
      "cell_type": "code",
      "metadata": {
        "colab": {
          "base_uri": "https://localhost:8080/"
        },
        "id": "1mrH0mCIk46k",
        "outputId": "f7dde723-5cda-47a5-9128-be87f11ac1b4"
      },
      "source": [
        "#5. Store someone you know name in a variable called name. Print their name in lower and uppercase using a method.\r\n",
        "full_name = 'George Lopez'\r\n",
        "print(full_name.upper())\r\n",
        "print(full_name.lower())\r\n"
      ],
      "execution_count": null,
      "outputs": [
        {
          "output_type": "stream",
          "text": [
            "GEORGE LOPEZ\n",
            "george lopez\n"
          ],
          "name": "stdout"
        }
      ]
    },
    {
      "cell_type": "code",
      "metadata": {
        "colab": {
          "base_uri": "https://localhost:8080/"
        },
        "id": "l_yzvlaZlwPK",
        "outputId": "f12dc6ef-5c03-4274-c8e6-79739a71762c"
      },
      "source": [
        "#6. Using a variable, ask your friend if they want to hang out on the 15 th of the month. For example, “Do you want to hang out on the 15 th of this month?” You should have to convert the number to a string.\r\n",
        "x = 'Do you want to hang out on the '\r\n",
        "y = input('Please Enter Date: ')\r\n",
        "print(x + str(y) + ' of this month' '?')"
      ],
      "execution_count": null,
      "outputs": [
        {
          "output_type": "stream",
          "text": [
            "Please Enter Date: 15th\n",
            "Do you want to hang out on the 15th of this month?\n"
          ],
          "name": "stdout"
        }
      ]
    }
  ]
}