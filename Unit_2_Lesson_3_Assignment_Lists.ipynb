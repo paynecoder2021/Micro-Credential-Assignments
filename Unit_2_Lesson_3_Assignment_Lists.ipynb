{
  "nbformat": 4,
  "nbformat_minor": 0,
  "metadata": {
    "colab": {
      "name": "Unit 2 Lesson 3 Assignment - Lists.ipynb",
      "provenance": []
    },
    "kernelspec": {
      "name": "python3",
      "display_name": "Python 3"
    }
  },
  "cells": [
    {
      "cell_type": "code",
      "metadata": {
        "colab": {
          "base_uri": "https://localhost:8080/"
        },
        "id": "LW8lDH-fn0gn",
        "outputId": "e43e2d32-706a-4065-cc6c-1e419038bb21"
      },
      "source": [
        "#1. Create a list of 5 of your favorite tv shows.  \r\n",
        "Favorite_Shows = ['This Is Us' , 'The Flash' , 'Attack on Titan', 'My Hero Academia' , 'Agents of Shield']\r\n",
        "#2. Print the list in its original order.\r\n",
        "print(Favorite_Shows)\r\n"
      ],
      "execution_count": 2,
      "outputs": [
        {
          "output_type": "stream",
          "text": [
            "['This Is Us', 'The Flash', 'Attack on Titan', 'My Hero Academia', 'Agents of Shield']\n"
          ],
          "name": "stdout"
        }
      ]
    },
    {
      "cell_type": "code",
      "metadata": {
        "colab": {
          "base_uri": "https://localhost:8080/"
        },
        "id": "5cy8bNIBp8YM",
        "outputId": "95e3689a-e454-4d23-fe06-8ce067fb6d1c"
      },
      "source": [
        "#3. Use the sorted() function to print the list in alphabetical order.  How is sorted() different from sort()?\r\n",
        "sorted(Favorite_Shows)\r\n",
        "print(Favorite_Shows)\r\n",
        "\r\n",
        "Favorite_Shows.sort()\r\n",
        "print(Favorite_Shows)\r\n",
        "\r\n",
        "#The sorted() method sorts the given sequence either in ascending order or in descending order and always returns a sorted list. This method does not impact the original sequence. The sort() function is very similar to sorted() but unlike sorted it returns nothing and makes changes to the original sequence. Moreover, sort() is a method of list class and can only be used with lists."
      ],
      "execution_count": 9,
      "outputs": [
        {
          "output_type": "stream",
          "text": [
            "['Agents of Shield', 'Attack on Titan', 'My Hero Academia', 'The Flash', 'This Is Us']\n",
            "['Agents of Shield', 'Attack on Titan', 'My Hero Academia', 'The Flash', 'This Is Us']\n"
          ],
          "name": "stdout"
        }
      ]
    },
    {
      "cell_type": "code",
      "metadata": {
        "colab": {
          "base_uri": "https://localhost:8080/"
        },
        "id": "qMNDq74DrtXD",
        "outputId": "48f6ec76-c9b5-4b54-c721-54215a33a627"
      },
      "source": [
        "#4. Print out your original list\r\n",
        "\r\n",
        "original_list = ['This Is Us' , 'The Flash' , 'Attack on Titan', 'My Hero Academia' , 'Agents of Shield']\r\n",
        "print(original_list) "
      ],
      "execution_count": 14,
      "outputs": [
        {
          "output_type": "stream",
          "text": [
            "['This Is Us', 'The Flash', 'Attack on Titan', 'My Hero Academia', 'Agents of Shield']\n"
          ],
          "name": "stdout"
        }
      ]
    },
    {
      "cell_type": "code",
      "metadata": {
        "colab": {
          "base_uri": "https://localhost:8080/"
        },
        "id": "QKGxPm0_r3BJ",
        "outputId": "68a0033d-9695-4f6c-c053-2dc1626c44c3"
      },
      "source": [
        "#5. Use sorted() to print your list in reverse alphabetical order\r\n",
        "\r\n",
        "sorted (Favorite_Shows)\r\n",
        "Favorite_Shows.sort(reverse=True)\r\n",
        "print(Favorite_Shows)"
      ],
      "execution_count": 13,
      "outputs": [
        {
          "output_type": "stream",
          "text": [
            "['This Is Us', 'The Flash', 'My Hero Academia', 'Attack on Titan', 'Agents of Shield']\n"
          ],
          "name": "stdout"
        }
      ]
    },
    {
      "cell_type": "code",
      "metadata": {
        "colab": {
          "base_uri": "https://localhost:8080/"
        },
        "id": "iAdq_fvbpY6A",
        "outputId": "eda19d0c-a7de-4f09-e37f-23f2d8799f8e"
      },
      "source": [
        "#6. Create a message indicating how many favorite TV shows you have – use the len() function.\r\n",
        "Favorite_Shows = ['This Is Us' , 'The Flash' , 'Attack on Titan', 'My Hero Academia' , 'Agents of Shield']\r\n",
        "print (len(Favorite_Shows))"
      ],
      "execution_count": 5,
      "outputs": [
        {
          "output_type": "stream",
          "text": [
            "5\n"
          ],
          "name": "stdout"
        }
      ]
    }
  ]
}